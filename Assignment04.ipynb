{
 "cells": [
  {
   "cell_type": "code",
   "execution_count": 30,
   "metadata": {},
   "outputs": [
    {
     "output_type": "stream",
     "name": "stdout",
     "text": [
      "x_train: (10000, 32, 32, 3)\n",
      "[[0. 0. 0. ... 0. 0. 0.]\n",
      " [0. 0. 0. ... 0. 0. 1.]\n",
      " [0. 0. 0. ... 0. 0. 1.]\n",
      " ...\n",
      " [0. 0. 0. ... 0. 0. 1.]\n",
      " [0. 1. 0. ... 0. 0. 0.]\n",
      " [0. 1. 0. ... 0. 0. 0.]]\n",
      "(10000, 10)\n",
      "====================\n",
      "[[-0.2812186  -0.29041624 -0.27276    ... -0.0142709  -0.13274628\n",
      "  -0.16620338]\n",
      " [ 0.09133043  0.16056415  0.2135145  ...  0.06416047  0.02803804\n",
      "   0.11614957]\n",
      " [ 0.48740888  0.46644652  0.4801812  ... -0.18289836 -0.15627569\n",
      "  -0.11914455]\n",
      " ...\n",
      " [-0.37533623  0.16448572  0.4017498  ... -0.44956502 -0.37196195\n",
      "  -0.25247788]\n",
      " [ 0.22858533  0.29389748  0.42135766 ...  0.26808205  0.25156745\n",
      "   0.22203192]\n",
      " [ 0.38544807  0.3644857   0.4174361  ...  0.14259185  0.14568509\n",
      "   0.18281624]]\n",
      "(50000, 3072)\n"
     ]
    }
   ],
   "source": [
    "import tensorflow as tf\n",
    "from tensorflow import keras\n",
    "import numpy as np\n",
    "import matplotlib.pyplot as plt\n",
    "(x_train, y_train), (x_test, y_test) = keras.datasets.cifar10.load_data()\n",
    "\n",
    "K = len(np.unique(y_train)) # Return the unique elements of a tratining output set and take it length as Classes\n",
    "Ntr = x_train.shape[0] # number of training examples\n",
    "Nte = x_test.shape[0] # number of testing examples\n",
    "Din = 3072 # By CIFAR10 data set with 32 x 32 x 3 color images\n",
    "\n",
    "# Normalize pixel values: Image data preprocessing\n",
    "x_train, x_test = x_train / 255.0, x_test / 255.0\n",
    "mean_image = np.mean(x_train, axis=0) # axis=0: mean of a column; Mean of each pixel\n",
    "x_train = x_train - mean_image\n",
    "x_test = x_test - mean_image\n",
    "\n",
    "\n",
    "y_train = tf.keras.utils.to_categorical(y_train, num_classes=K) # This function returns a matrix of binary values (either ‘1’ or ‘0’). It has number of rows equal to the length of the input vector and number of columns equal to the number of classes.\n",
    "y_test = tf.keras.utils.to_categorical(y_test, num_classes=K)\n",
    "x_train = np.reshape(x_train,(Ntr,Din)).astype('float32') # reshape the data set\n",
    "x_test = np.reshape(x_test,(Nte,Din)).astype('float32')\n",
    "\n",
    "std=1e-5 # standard deviation (sigma)\n",
    "w = std*np.random.randn(Din, K) #Return a sample (or samples) from the “standard normal” distribution.\n",
    "b = np.zeros(K) # creating array of zeros for bias vector\n",
    "\n",
    "print(\"w:\", w.shape)\n",
    "print(\"b:\", b.shape)\n",
    "#batch_size = Ntr # for gradient descent optimization batch size is equal to number of training set\n",
    "\n",
    "iterations = 300 # epochs\n",
    "lr = 1.4e-2 # the learning rate alpha\n",
    "lr_decay = 0.999\n",
    "reg = 5e-6 # the regularization constant\n",
    "loss_history = []\n",
    "train_acc_history = []\n",
    "val_acc_history = []\n",
    "\n",
    "for t in range(iterations):\n",
    "    # forward propagation\n",
    "    batch_indices = np.random.choice(Ntr, Ntr) # Generates a random sample from a given 1-D array\n",
    "    x = x_train[batch_indices]\n",
    "    y = y_train[batch_indices]\n",
    "    y_pred = x.dot(w) + b # create predictable output\n",
    "    loss = (1/Ntr)*np.square(y_pred - y).sum() +  reg*(np.sum(w**2) # loss function with regularization term \n",
    "    loss_history.append(loss)\n",
    "\n",
    "    # backward propagation\n",
    "\n",
    "    if t % 10 == 0:\n",
    "        print('iteration %d / %d: loss %f' % (t, iterations, loss))\n",
    "\n",
    "\n",
    "\n"
   ]
  },
  {
   "cell_type": "code",
   "execution_count": null,
   "metadata": {},
   "outputs": [],
   "source": []
  }
 ],
 "metadata": {
  "kernelspec": {
   "name": "python3",
   "display_name": "Python 3.8.8 64-bit",
   "metadata": {
    "interpreter": {
     "hash": "ff9c3df18c39e40a632fe67bd3f2effcf292bf7152cebacfc692487f5f951f29"
    }
   }
  },
  "language_info": {
   "codemirror_mode": {
    "name": "ipython",
    "version": 3
   },
   "file_extension": ".py",
   "mimetype": "text/x-python",
   "name": "python",
   "nbconvert_exporter": "python",
   "pygments_lexer": "ipython3",
   "version": "3.8.8"
  }
 },
 "nbformat": 4,
 "nbformat_minor": 5
}