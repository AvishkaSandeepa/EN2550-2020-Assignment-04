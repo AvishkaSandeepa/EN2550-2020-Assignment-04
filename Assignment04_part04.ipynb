{
 "cells": [
  {
   "cell_type": "code",
   "execution_count": 15,
   "id": "interracial-parish",
   "metadata": {},
   "outputs": [],
   "source": [
    "import tensorflow as tf\n",
    "from tensorflow import keras\n",
    "import numpy as np\n",
    "import matplotlib.pyplot as plt\n",
    "import cv2 as cv\n",
    "from tensorflow.keras.datasets import cifar10\n",
    "from tensorflow.keras.preprocessing.image import ImageDataGenerator\n",
    "from tensorflow.keras.models import Sequential\n",
    "from tensorflow.keras.layers import Dense, Dropout, Activation, Flatten\n",
    "from tensorflow.keras.layers import Conv2D, MaxPooling2D"
   ]
  },
  {
   "cell_type": "code",
   "execution_count": 16,
   "id": "imperial-waterproof",
   "metadata": {},
   "outputs": [
    {
     "name": "stdout",
     "output_type": "stream",
     "text": [
      "x_train: (50000, 32, 32, 3)\n",
      "x_test: (10000, 32, 32, 3)\n",
      "y_train: (50000, 10)\n",
      "y_test: (10000, 10)\n"
     ]
    }
   ],
   "source": [
    "(x_train, y_train), (x_test, y_test) = keras.datasets.cifar10.load_data()\n",
    "K = len(np.unique(y_train)) # Return the unique elements of a tratining output set and take it length as Classes\n",
    "x_train = x_train.astype('float32')\n",
    "x_test = x_test.astype('float32')\n",
    "\n",
    "mean_image = np.mean(x_train, axis=(0,1,2,3))\n",
    "std = np.std(x_train, axis=(0,1,2,3))\n",
    "x_train = (x_train - mean_image)/(std+1e-7)\n",
    "x_test = (x_test - mean_image)/(std+1e-7)\n",
    "\n",
    "y_train = tf.keras.utils.to_categorical(y_train, num_classes=K)\n",
    "#This function returns a matrix of binary values (either ‘1’ or ‘0’). It has number of rows equal to the length of\n",
    "#the input vector and number of columns equal to the number of classes.\n",
    "y_test = tf.keras.utils.to_categorical(y_test, num_classes=K)\n",
    "\n",
    "print('x_train:', x_train.shape)\n",
    "print('x_test:', x_test.shape)\n",
    "print('y_train:', y_train.shape)\n",
    "print('y_test:', y_test.shape)"
   ]
  },
  {
   "cell_type": "code",
   "execution_count": 17,
   "id": "incredible-syndicate",
   "metadata": {},
   "outputs": [
    {
     "name": "stdout",
     "output_type": "stream",
     "text": [
      "Model: \"sequential_1\"\n",
      "_________________________________________________________________\n",
      "Layer (type)                 Output Shape              Param #   \n",
      "=================================================================\n",
      "conv2d_3 (Conv2D)            (None, 30, 30, 32)        896       \n",
      "_________________________________________________________________\n",
      "max_pooling2d_3 (MaxPooling2 (None, 15, 15, 32)        0         \n",
      "_________________________________________________________________\n",
      "conv2d_4 (Conv2D)            (None, 13, 13, 64)        18496     \n",
      "_________________________________________________________________\n",
      "max_pooling2d_4 (MaxPooling2 (None, 6, 6, 64)          0         \n",
      "_________________________________________________________________\n",
      "conv2d_5 (Conv2D)            (None, 4, 4, 64)          36928     \n",
      "_________________________________________________________________\n",
      "max_pooling2d_5 (MaxPooling2 (None, 2, 2, 64)          0         \n",
      "_________________________________________________________________\n",
      "flatten_1 (Flatten)          (None, 256)               0         \n",
      "_________________________________________________________________\n",
      "dense_2 (Dense)              (None, 64)                16448     \n",
      "_________________________________________________________________\n",
      "dense_3 (Dense)              (None, 10)                650       \n",
      "=================================================================\n",
      "Total params: 73,418\n",
      "Trainable params: 73,418\n",
      "Non-trainable params: 0\n",
      "_________________________________________________________________\n"
     ]
    }
   ],
   "source": [
    "model = Sequential()\n",
    "# convolution layer & maxpooling layer with 32 nodes\n",
    "model.add(Conv2D(32, (3, 3), activation = \"relu\", input_shape=(32,32,3)))\n",
    "model.add(MaxPooling2D(pool_size=(2, 2)))\n",
    "# convolution layer & maxpooling layer with 64 nodes\n",
    "model.add(Conv2D(64, (3, 3), activation = \"relu\"))\n",
    "model.add(MaxPooling2D(pool_size=(2, 2)))\n",
    "\n",
    "model.add(Conv2D(64, (3, 3), activation = \"relu\"))\n",
    "model.add(MaxPooling2D(pool_size=(2, 2)))\n",
    "# Flatten serves as a connection between the convolution and dense layers. \n",
    "model.add(Flatten()) \n",
    "# output layer\n",
    "model.add(Dense(64, activation = \"relu\"))\n",
    "model.add(Dense(10))\n",
    "model.summary()"
   ]
  },
  {
   "cell_type": "code",
   "execution_count": 18,
   "id": "addressed-madrid",
   "metadata": {},
   "outputs": [
    {
     "name": "stdout",
     "output_type": "stream",
     "text": [
      "Epoch 1/50\n",
      "1000/1000 [==============================] - 52s 51ms/step - loss: 1.6731 - accuracy: 0.3863 - val_loss: 1.2266 - val_accuracy: 0.5589\n",
      "Epoch 2/50\n",
      "1000/1000 [==============================] - 60s 60ms/step - loss: 1.1190 - accuracy: 0.6030 - val_loss: 0.9886 - val_accuracy: 0.6577\n",
      "Epoch 3/50\n",
      "1000/1000 [==============================] - 61s 61ms/step - loss: 0.9320 - accuracy: 0.6752 - val_loss: 0.9083 - val_accuracy: 0.6890\n",
      "Epoch 4/50\n",
      "1000/1000 [==============================] - 46s 46ms/step - loss: 0.8158 - accuracy: 0.7144 - val_loss: 0.8581 - val_accuracy: 0.7048\n",
      "Epoch 5/50\n",
      "1000/1000 [==============================] - 47s 47ms/step - loss: 0.7380 - accuracy: 0.7436 - val_loss: 0.8598 - val_accuracy: 0.7067\n",
      "Epoch 6/50\n",
      "1000/1000 [==============================] - 46s 46ms/step - loss: 0.6811 - accuracy: 0.7616 - val_loss: 0.8284 - val_accuracy: 0.7173\n",
      "Epoch 7/50\n",
      "1000/1000 [==============================] - 44s 44ms/step - loss: 0.6141 - accuracy: 0.7835 - val_loss: 0.8292 - val_accuracy: 0.7179\n",
      "Epoch 8/50\n",
      "1000/1000 [==============================] - 44s 44ms/step - loss: 0.5740 - accuracy: 0.7963 - val_loss: 0.7885 - val_accuracy: 0.7343\n",
      "Epoch 9/50\n",
      "1000/1000 [==============================] - 42s 42ms/step - loss: 0.5300 - accuracy: 0.8143 - val_loss: 0.8301 - val_accuracy: 0.7284\n",
      "Epoch 10/50\n",
      "1000/1000 [==============================] - 47s 47ms/step - loss: 0.5007 - accuracy: 0.8221 - val_loss: 0.8545 - val_accuracy: 0.7258\n",
      "Epoch 11/50\n",
      "1000/1000 [==============================] - 47s 47ms/step - loss: 0.4731 - accuracy: 0.8342 - val_loss: 0.8196 - val_accuracy: 0.7350\n",
      "Epoch 12/50\n",
      "1000/1000 [==============================] - 47s 47ms/step - loss: 0.4352 - accuracy: 0.8473 - val_loss: 0.8492 - val_accuracy: 0.7319\n",
      "Epoch 13/50\n",
      "1000/1000 [==============================] - 47s 47ms/step - loss: 0.4058 - accuracy: 0.8547 - val_loss: 0.8921 - val_accuracy: 0.7240\n",
      "Epoch 14/50\n",
      "1000/1000 [==============================] - 47s 47ms/step - loss: 0.3799 - accuracy: 0.8647 - val_loss: 0.9030 - val_accuracy: 0.7314\n",
      "Epoch 15/50\n",
      "1000/1000 [==============================] - 47s 47ms/step - loss: 0.3504 - accuracy: 0.8757 - val_loss: 0.9382 - val_accuracy: 0.7238\n",
      "Epoch 16/50\n",
      "1000/1000 [==============================] - 46s 46ms/step - loss: 0.3271 - accuracy: 0.8838 - val_loss: 0.9388 - val_accuracy: 0.7288\n",
      "Epoch 17/50\n",
      "1000/1000 [==============================] - 47s 47ms/step - loss: 0.3090 - accuracy: 0.8886 - val_loss: 1.0084 - val_accuracy: 0.7234\n",
      "Epoch 18/50\n",
      "1000/1000 [==============================] - 46s 46ms/step - loss: 0.2963 - accuracy: 0.8959 - val_loss: 1.0527 - val_accuracy: 0.7273\n",
      "Epoch 19/50\n",
      "1000/1000 [==============================] - 46s 46ms/step - loss: 0.2773 - accuracy: 0.8996 - val_loss: 1.1067 - val_accuracy: 0.7212\n",
      "Epoch 20/50\n",
      "1000/1000 [==============================] - 46s 46ms/step - loss: 0.2539 - accuracy: 0.9084 - val_loss: 1.0778 - val_accuracy: 0.7214\n",
      "Epoch 21/50\n",
      "1000/1000 [==============================] - 47s 47ms/step - loss: 0.2450 - accuracy: 0.9111 - val_loss: 1.1805 - val_accuracy: 0.7159\n",
      "Epoch 22/50\n",
      "1000/1000 [==============================] - 45s 45ms/step - loss: 0.2333 - accuracy: 0.9170 - val_loss: 1.2232 - val_accuracy: 0.7204\n",
      "Epoch 23/50\n",
      "1000/1000 [==============================] - 45s 45ms/step - loss: 0.2142 - accuracy: 0.9210 - val_loss: 1.2353 - val_accuracy: 0.7231\n",
      "Epoch 24/50\n",
      "1000/1000 [==============================] - 46s 46ms/step - loss: 0.2135 - accuracy: 0.9218 - val_loss: 1.3037 - val_accuracy: 0.7129\n",
      "Epoch 25/50\n",
      "1000/1000 [==============================] - 46s 46ms/step - loss: 0.1916 - accuracy: 0.9293 - val_loss: 1.3984 - val_accuracy: 0.7132\n",
      "Epoch 26/50\n",
      "1000/1000 [==============================] - 45s 45ms/step - loss: 0.1879 - accuracy: 0.9306 - val_loss: 1.4082 - val_accuracy: 0.7102\n",
      "Epoch 27/50\n",
      "1000/1000 [==============================] - 44s 44ms/step - loss: 0.1752 - accuracy: 0.9362 - val_loss: 1.4724 - val_accuracy: 0.7151\n",
      "Epoch 28/50\n",
      "1000/1000 [==============================] - 44s 44ms/step - loss: 0.1791 - accuracy: 0.9356 - val_loss: 1.4614 - val_accuracy: 0.7199\n",
      "Epoch 29/50\n",
      "1000/1000 [==============================] - 45s 45ms/step - loss: 0.1580 - accuracy: 0.9440 - val_loss: 1.4988 - val_accuracy: 0.7104\n",
      "Epoch 30/50\n",
      "1000/1000 [==============================] - 45s 45ms/step - loss: 0.1590 - accuracy: 0.9438 - val_loss: 1.6015 - val_accuracy: 0.7198\n",
      "Epoch 31/50\n",
      "1000/1000 [==============================] - 45s 45ms/step - loss: 0.1537 - accuracy: 0.9451 - val_loss: 1.6044 - val_accuracy: 0.7118\n",
      "Epoch 32/50\n",
      "1000/1000 [==============================] - 45s 45ms/step - loss: 0.1588 - accuracy: 0.9421 - val_loss: 1.5676 - val_accuracy: 0.7199\n",
      "Epoch 33/50\n",
      "1000/1000 [==============================] - 46s 46ms/step - loss: 0.1306 - accuracy: 0.9539 - val_loss: 1.6710 - val_accuracy: 0.7178\n",
      "Epoch 34/50\n",
      "1000/1000 [==============================] - 46s 46ms/step - loss: 0.1310 - accuracy: 0.9519 - val_loss: 1.7241 - val_accuracy: 0.7034\n",
      "Epoch 35/50\n",
      "1000/1000 [==============================] - 47s 47ms/step - loss: 0.1331 - accuracy: 0.9528 - val_loss: 1.7150 - val_accuracy: 0.7182\n",
      "Epoch 36/50\n",
      "1000/1000 [==============================] - 46s 46ms/step - loss: 0.1326 - accuracy: 0.9519 - val_loss: 1.7710 - val_accuracy: 0.7094\n",
      "Epoch 37/50\n",
      "1000/1000 [==============================] - 46s 46ms/step - loss: 0.1240 - accuracy: 0.9542 - val_loss: 1.7890 - val_accuracy: 0.7195\n",
      "Epoch 38/50\n",
      "1000/1000 [==============================] - 46s 46ms/step - loss: 0.1258 - accuracy: 0.9553 - val_loss: 1.8700 - val_accuracy: 0.7120\n",
      "Epoch 39/50\n",
      "1000/1000 [==============================] - 47s 47ms/step - loss: 0.1339 - accuracy: 0.9533 - val_loss: 1.8649 - val_accuracy: 0.7089\n",
      "Epoch 40/50\n",
      "1000/1000 [==============================] - 46s 46ms/step - loss: 0.1155 - accuracy: 0.9575 - val_loss: 1.8028 - val_accuracy: 0.7178\n",
      "Epoch 41/50\n",
      "1000/1000 [==============================] - 47s 47ms/step - loss: 0.1092 - accuracy: 0.9602 - val_loss: 1.9191 - val_accuracy: 0.7074\n",
      "Epoch 42/50\n",
      "1000/1000 [==============================] - 46s 46ms/step - loss: 0.1104 - accuracy: 0.9609 - val_loss: 2.0296 - val_accuracy: 0.7080\n",
      "Epoch 43/50\n",
      "1000/1000 [==============================] - 46s 46ms/step - loss: 0.1068 - accuracy: 0.9619 - val_loss: 2.0347 - val_accuracy: 0.7054\n",
      "Epoch 44/50\n",
      "1000/1000 [==============================] - 46s 46ms/step - loss: 0.1054 - accuracy: 0.9629 - val_loss: 1.9833 - val_accuracy: 0.7182\n",
      "Epoch 45/50\n",
      "1000/1000 [==============================] - 46s 46ms/step - loss: 0.0993 - accuracy: 0.9649 - val_loss: 2.0484 - val_accuracy: 0.7137\n",
      "Epoch 46/50\n",
      "1000/1000 [==============================] - 45s 45ms/step - loss: 0.1121 - accuracy: 0.9622 - val_loss: 2.0992 - val_accuracy: 0.7030\n",
      "Epoch 47/50\n",
      "1000/1000 [==============================] - 45s 45ms/step - loss: 0.1000 - accuracy: 0.9653 - val_loss: 2.0756 - val_accuracy: 0.7130\n",
      "Epoch 48/50\n",
      "1000/1000 [==============================] - 45s 45ms/step - loss: 0.1054 - accuracy: 0.9642 - val_loss: 2.0693 - val_accuracy: 0.7114\n",
      "Epoch 49/50\n",
      "1000/1000 [==============================] - 45s 45ms/step - loss: 0.0885 - accuracy: 0.9692 - val_loss: 2.1212 - val_accuracy: 0.7195\n",
      "Epoch 50/50\n",
      "1000/1000 [==============================] - 45s 45ms/step - loss: 0.1041 - accuracy: 0.9637 - val_loss: 2.1881 - val_accuracy: 0.7127\n"
     ]
    }
   ],
   "source": [
    "model.compile(optimizer='adam',loss=tf.keras.losses.CategoricalCrossentropy(from_logits=True),metrics=[\"accuracy\"])\n",
    "history=model.fit(x_train,y_train,epochs=50,batch_size=50,validation_data=(x_test,y_test),)"
   ]
  },
  {
   "cell_type": "code",
   "execution_count": 19,
   "id": "spanish-intermediate",
   "metadata": {},
   "outputs": [],
   "source": [
    "loss_history, test_loss_history, train_acc_history,val_acc_history = (history.history['loss'],history.history['val_loss'],history.history['accuracy'],history.history['val_accuracy'])"
   ]
  },
  {
   "cell_type": "code",
   "execution_count": 20,
   "id": "electric-crown",
   "metadata": {},
   "outputs": [
    {
     "data": {
      "image/png": "[encoded data removed]",
      "text/plain": [
       "<Figure size 432x288 with 1 Axes>"
      ]
     },
     "metadata": {
      "needs_background": "light"
     },
     "output_type": "display_data"
    }
   ],
   "source": [
    "fig, axes = plt.subplots()\n",
    "axes.plot(loss_history)  \n",
    "axes.set_xlabel(\"epochs\")\n",
    "axes.set_ylabel(\"LOSS\")\n",
    "plt.show()\n",
    "fig.savefig('LOSS.png',transparent=True)"
   ]
  },
  {
   "cell_type": "code",
   "execution_count": 21,
   "id": "curious-halifax",
   "metadata": {},
   "outputs": [
    {
     "data": {
      "image/png": "[encoded data removed]",
      "text/plain": [
       "<Figure size 432x288 with 1 Axes>"
      ]
     },
     "metadata": {
      "needs_background": "light"
     },
     "output_type": "display_data"
    }
   ],
   "source": [
    "fig, axes = plt.subplots()\n",
    "axes.plot(test_loss_history)  \n",
    "axes.set_xlabel(\"epochs\")\n",
    "axes.set_ylabel(\"LOSS\")\n",
    "plt.show()\n",
    "fig.savefig('testing_loss.png',transparent=True)"
   ]
  },
  {
   "cell_type": "code",
   "execution_count": 22,
   "id": "smoking-signature",
   "metadata": {},
   "outputs": [
    {
     "data": {
      "image/png": "[encoded data removed]",
      "text/plain": [
       "<Figure size 432x288 with 1 Axes>"
      ]
     },
     "metadata": {
      "needs_background": "light"
     },
     "output_type": "display_data"
    }
   ],
   "source": [
    "fig, axes = plt.subplots() \n",
    "axes.plot(train_acc_history)  \n",
    "axes.set_xlabel(\"epochs\")\n",
    "axes.set_ylabel(\"training accuracy\")\n",
    "plt.show()\n",
    "fig.savefig('training accuracy.png',transparent=True)"
   ]
  },
  {
   "cell_type": "code",
   "execution_count": 23,
   "id": "careful-housing",
   "metadata": {},
   "outputs": [
    {
     "data": {
      "image/png": "[encoded data removed]",
      "text/plain": [
       "<Figure size 432x288 with 1 Axes>"
      ]
     },
     "metadata": {
      "needs_background": "light"
     },
     "output_type": "display_data"
    }
   ],
   "source": [
    "fig, axes = plt.subplots() \n",
    "axes.plot(val_acc_history)  \n",
    "axes.set_xlabel(\"epochs\")\n",
    "axes.set_ylabel(\"testing accuracy\")\n",
    "plt.show()\n",
    "fig.savefig('testing accuracy.png',transparent=True)"
   ]
  },
  {
   "cell_type": "code",
   "execution_count": null,
   "id": "behavioral-metropolitan",
   "metadata": {},
   "outputs": [],
   "source": []
  }
 ],
 "metadata": {
  "kernelspec": {
   "display_name": "Python 3",
   "language": "python",
   "name": "python3"
  },
  "language_info": {
   "codemirror_mode": {
    "name": "ipython",
    "version": 3
   },
   "file_extension": ".py",
   "mimetype": "text/x-python",
   "name": "python",
   "nbconvert_exporter": "python",
   "pygments_lexer": "ipython3",
   "version": "3.8.8"
  }
 },
 "nbformat": 4,
 "nbformat_minor": 5
}
