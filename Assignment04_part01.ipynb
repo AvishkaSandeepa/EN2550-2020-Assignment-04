{
 "cells": [
  {
   "cell_type": "markdown",
   "id": "fewer-skill",
   "metadata": {},
   "source": [
    "#Part 01"
   ]
  },
  {
   "cell_type": "code",
   "execution_count": 5,
   "id": "identical-synthesis",
   "metadata": {},
   "outputs": [],
   "source": [
    "import tensorflow as tf\n",
    "from tensorflow import keras\n",
    "import numpy as np\n",
    "import matplotlib.pyplot as plt"
   ]
  },
  {
   "cell_type": "code",
   "execution_count": 6,
   "id": "israeli-benjamin",
   "metadata": {},
   "outputs": [
    {
     "name": "stdout",
     "output_type": "stream",
     "text": [
      "x_train: (50000, 3072)\n",
      "x_test: (10000, 3072)\n",
      "y_train: (50000, 10)\n",
      "y_test: (10000, 10)\n"
     ]
    }
   ],
   "source": [
    "(x_train, y_train), (x_test, y_test) = keras.datasets.cifar10.load_data()\n",
    "K = len(np.unique(y_train)) # Return the unique elements of a tratining output set and take it length as Classes\n",
    "Ntr = x_train.shape[0] # number of training examples\n",
    "Nte = x_test.shape[0] # number of testing examples\n",
    "Din = 3072 # By CIFAR10 data set with 32 x 32 x 3 color images\n",
    "\n",
    "# Normalize pixel values: Image data preprocessing\n",
    "x_train, x_test = x_train / 255.0, x_test / 255.0\n",
    "mean_image = np.mean(x_train, axis=0) # axis=0: mean of a column; Mean of each pixel\n",
    "x_train = x_train - mean_image\n",
    "x_test = x_test - mean_image\n",
    "\n",
    "y_train = tf.keras.utils.to_categorical(y_train, num_classes=K) # This function returns a matrix of binary values (either ‘1’ or ‘0’). It has number of rows equal to the length of the input vector and number of columns equal to the number of classes.\n",
    "y_test = tf.keras.utils.to_categorical(y_test, num_classes=K)\n",
    "\n",
    "#reshape/flatten the data\n",
    "x_train = np.reshape(x_train,(Ntr,Din))\n",
    "x_test = np.reshape(x_test,(Nte,Din))\n",
    "x_train = x_train.astype('float32')\n",
    "x_test = x_test.astype('float32')\n",
    "\n",
    "print('x_train:', x_train.shape)\n",
    "print('x_test:', x_test.shape)\n",
    "print('y_train:', y_train.shape)\n",
    "print('y_test:', y_test.shape)"
   ]
  },
  {
   "cell_type": "code",
   "execution_count": 18,
   "id": "collaborative-montana",
   "metadata": {},
   "outputs": [],
   "source": [
    "batch_size = Ntr # for gradient descent optimization batch size is equal to number of training set\n",
    "iterations = 5 # epochs\n",
    "lr = 1.4e-2 # the learning rate alpha\n",
    "lr_decay= 0.999\n",
    "reg = 5e-6 #the regularization constant - lamda"
   ]
  },
  {
   "cell_type": "code",
   "execution_count": 30,
   "id": "popular-receipt",
   "metadata": {},
   "outputs": [
    {
     "name": "stdout",
     "output_type": "stream",
     "text": [
      "iteration 0 / 5: loss 1.000010: training accuracy 65.503600: testing accuracy 93.129400\n",
      "iteration 1 / 5: loss 0.958815: training accuracy 71.331000: testing accuracy 94.365200\n",
      "iteration 2 / 5: loss 0.938246: training accuracy 73.736200: testing accuracy 94.807600\n",
      "iteration 3 / 5: loss 0.925573: training accuracy 73.768600: testing accuracy 94.825800\n",
      "iteration 4 / 5: loss 0.914463: training accuracy 74.485200: testing accuracy 94.972800\n"
     ]
    }
   ],
   "source": [
    "loss_history = []\n",
    "train_acc_history = []\n",
    "val_acc_history = []\n",
    "lr_history = []\n",
    "\n",
    "std=1e-5 # standard deviation of normal distributaion\n",
    "w1 = std*np.random.randn(Din, K) # initialize the w matrix with random values\n",
    "b1 = np.zeros(K)\n",
    "\n",
    "for t in range(iterations):\n",
    "    batch_indices = np.random.choice(Ntr, batch_size)\n",
    "    x = x_train[batch_indices]\n",
    "    y = y_train[batch_indices]\n",
    "\n",
    "    #forward \n",
    "    y_pred = x.dot(w1) + b1\n",
    "    y_pred_test = x_test.dot(w1) + b1\n",
    "    \n",
    "    loss = (1/batch_size)*(np.square(y - y_pred)).sum() + reg*(np.sum(w1*w1))\n",
    "    loss_history.append(loss)\n",
    "    \n",
    "    # compute the accuracy as percentage\n",
    "    training_acc = 100*(1 - (1/(batch_size*K))*(np.abs(np.argmax(y,axis=1) - np.argmax(y_pred,axis=1))).sum())  \n",
    "    testing_acc = 100*(1 - (1/(batch_size*K))*(np.abs(np.argmax(y_test,axis=1) - np.argmax(y_pred_test,axis=1))).sum())\n",
    "    train_acc_history.append(training_acc)\n",
    "    val_acc_history.append(testing_acc)\n",
    "\n",
    "    if t%1 == 0:\n",
    "        print(\"iteration %d / %d: loss %f: training accuracy %f: testing accuracy %f\" % (t, iterations, loss, training_acc, testing_acc))\n",
    "\n",
    "    # Backward \n",
    "    dy_pred = (1./batch_size)*2.0*(y_pred-y) # partial derivative w.r.t y_predicted\n",
    "    dw1 = x.T.dot(dy_pred) + reg*w1\n",
    "    db1 = dy_pred.sum(axis=0)\n",
    "    #updating learning parameters\n",
    "    w1 -= lr*dw1 \n",
    "    b1 -= lr*db1\n",
    "    lr *= lr_decay\n",
    "    \n",
    "    lr_history.append(lr)"
   ]
  },
  {
   "cell_type": "code",
   "execution_count": 31,
   "id": "successful-arctic",
   "metadata": {},
   "outputs": [
    {
     "data": {
      "text/plain": [
       "[<matplotlib.lines.Line2D at 0x24066e0e3a0>]"
      ]
     },
     "execution_count": 31,
     "metadata": {},
     "output_type": "execute_result"
    },
    {
     "data": {
      "image/png": "[encoded data removed]",
      "text/plain": [
       "<Figure size 432x288 with 1 Axes>"
      ]
     },
     "metadata": {
      "needs_background": "light"
     },
     "output_type": "display_data"
    }
   ],
   "source": [
    "plt.plot(loss_history)"
   ]
  },
  {
   "cell_type": "code",
   "execution_count": 32,
   "id": "solid-spotlight",
   "metadata": {},
   "outputs": [
    {
     "data": {
      "text/plain": [
       "[<matplotlib.lines.Line2D at 0x24066596280>]"
      ]
     },
     "execution_count": 32,
     "metadata": {},
     "output_type": "execute_result"
    },
    {
     "data": {
      "image/png": "[encoded data removed]",
      "text/plain": [
       "<Figure size 432x288 with 1 Axes>"
      ]
     },
     "metadata": {
      "needs_background": "light"
     },
     "output_type": "display_data"
    }
   ],
   "source": [
    "plt.plot(train_acc_history)"
   ]
  },
  {
   "cell_type": "code",
   "execution_count": 33,
   "id": "robust-pilot",
   "metadata": {},
   "outputs": [
    {
     "data": {
      "text/plain": [
       "[<matplotlib.lines.Line2D at 0x240665fd0a0>]"
      ]
     },
     "execution_count": 33,
     "metadata": {},
     "output_type": "execute_result"
    },
    {
     "data": {
      "image/png": "[encoded data removed]",
      "text/plain": [
       "<Figure size 432x288 with 1 Axes>"
      ]
     },
     "metadata": {
      "needs_background": "light"
     },
     "output_type": "display_data"
    }
   ],
   "source": [
    "plt.plot(val_acc_history)"
   ]
  },
  {
   "cell_type": "code",
   "execution_count": 34,
   "id": "headed-connectivity",
   "metadata": {},
   "outputs": [
    {
     "data": {
      "text/plain": [
       "[<matplotlib.lines.Line2D at 0x240663826d0>]"
      ]
     },
     "execution_count": 34,
     "metadata": {},
     "output_type": "execute_result"
    },
    {
     "data": {
      "image/png": "[encoded data removed]",
      "text/plain": [
       "<Figure size 432x288 with 1 Axes>"
      ]
     },
     "metadata": {
      "needs_background": "light"
     },
     "output_type": "display_data"
    }
   ],
   "source": [
    "plt.plot(lr_history)"
   ]
  },
  {
   "cell_type": "code",
   "execution_count": null,
   "id": "exotic-subject",
   "metadata": {},
   "outputs": [],
   "source": []
  }
 ],
 "metadata": {
  "kernelspec": {
   "display_name": "Python 3",
   "language": "python",
   "name": "python3"
  },
  "language_info": {
   "codemirror_mode": {
    "name": "ipython",
    "version": 3
   },
   "file_extension": ".py",
   "mimetype": "text/x-python",
   "name": "python",
   "nbconvert_exporter": "python",
   "pygments_lexer": "ipython3",
   "version": "3.8.8"
  }
 },
 "nbformat": 4,
 "nbformat_minor": 5
}
